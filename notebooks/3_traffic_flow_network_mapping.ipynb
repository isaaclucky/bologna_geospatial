{
 "cells": [
  {
   "cell_type": "markdown",
   "id": "131cf969",
   "metadata": {},
   "source": [
    "# Flow Mapping"
   ]
  },
  {
   "cell_type": "markdown",
   "id": "3cc54cc9",
   "metadata": {},
   "source": [
    "- This notebook contains the procedures to merge the regional and provincial data and create the traffic flow network."
   ]
  },
  {
   "cell_type": "code",
   "execution_count": 2,
   "id": "80df3268",
   "metadata": {},
   "outputs": [],
   "source": [
    "import pandas as pd\n",
    "import geopandas as gpd\n",
    "import osmnx as ox"
   ]
  },
  {
   "cell_type": "code",
   "execution_count": null,
   "id": "e7c0598b",
   "metadata": {},
   "outputs": [],
   "source": [
    "df_bol = pd.read_csv('../data/traffic_data/bologna_traffic_time_series.csv', sep=';', nrows=5)"
   ]
  },
  {
   "cell_type": "code",
   "execution_count": 6,
   "id": "ffb70351",
   "metadata": {},
   "outputs": [
    {
     "data": {
      "application/vnd.microsoft.datawrangler.viewer.v0+json": {
       "columns": [
        {
         "name": "index",
         "rawType": "int64",
         "type": "integer"
        },
        {
         "name": "datetime",
         "rawType": "object",
         "type": "string"
        },
        {
         "name": "id_uni",
         "rawType": "int64",
         "type": "integer"
        },
        {
         "name": "Livello",
         "rawType": "int64",
         "type": "integer"
        },
        {
         "name": "direzione",
         "rawType": "object",
         "type": "string"
        },
        {
         "name": "traffic",
         "rawType": "int64",
         "type": "integer"
        },
        {
         "name": "Nodo da",
         "rawType": "int64",
         "type": "integer"
        },
        {
         "name": "Nodo a",
         "rawType": "int64",
         "type": "integer"
        },
        {
         "name": "angolo",
         "rawType": "int64",
         "type": "integer"
        }
       ],
       "ref": "e14ba297-68c3-4a19-b138-e8f6c8e7d03d",
       "rows": [
        [
         "0",
         "2024-04-24 00:00:00",
         "450",
         "1",
         "O",
         "49",
         "10384",
         "10360",
         "81"
        ],
        [
         "1",
         "2024-04-24 00:00:00",
         "362",
         "1",
         "S",
         "98",
         "10310",
         "15570",
         "170"
        ],
        [
         "2",
         "2024-04-24 00:00:00",
         "753",
         "1",
         "S",
         "226",
         "10320",
         "16721",
         "171"
        ],
        [
         "3",
         "2024-04-24 00:00:00",
         "456",
         "1",
         "S",
         "0",
         "10239",
         "14166",
         "170"
        ],
        [
         "4",
         "2024-04-24 00:00:00",
         "323",
         "1",
         "O",
         "211",
         "16723",
         "16727",
         "80"
        ]
       ],
       "shape": {
        "columns": 8,
        "rows": 5
       }
      },
      "text/html": [
       "<div>\n",
       "<style scoped>\n",
       "    .dataframe tbody tr th:only-of-type {\n",
       "        vertical-align: middle;\n",
       "    }\n",
       "\n",
       "    .dataframe tbody tr th {\n",
       "        vertical-align: top;\n",
       "    }\n",
       "\n",
       "    .dataframe thead th {\n",
       "        text-align: right;\n",
       "    }\n",
       "</style>\n",
       "<table border=\"1\" class=\"dataframe\">\n",
       "  <thead>\n",
       "    <tr style=\"text-align: right;\">\n",
       "      <th></th>\n",
       "      <th>datetime</th>\n",
       "      <th>id_uni</th>\n",
       "      <th>Livello</th>\n",
       "      <th>direzione</th>\n",
       "      <th>traffic</th>\n",
       "      <th>Nodo da</th>\n",
       "      <th>Nodo a</th>\n",
       "      <th>angolo</th>\n",
       "    </tr>\n",
       "  </thead>\n",
       "  <tbody>\n",
       "    <tr>\n",
       "      <th>0</th>\n",
       "      <td>2024-04-24 00:00:00</td>\n",
       "      <td>450</td>\n",
       "      <td>1</td>\n",
       "      <td>O</td>\n",
       "      <td>49</td>\n",
       "      <td>10384</td>\n",
       "      <td>10360</td>\n",
       "      <td>81</td>\n",
       "    </tr>\n",
       "    <tr>\n",
       "      <th>1</th>\n",
       "      <td>2024-04-24 00:00:00</td>\n",
       "      <td>362</td>\n",
       "      <td>1</td>\n",
       "      <td>S</td>\n",
       "      <td>98</td>\n",
       "      <td>10310</td>\n",
       "      <td>15570</td>\n",
       "      <td>170</td>\n",
       "    </tr>\n",
       "    <tr>\n",
       "      <th>2</th>\n",
       "      <td>2024-04-24 00:00:00</td>\n",
       "      <td>753</td>\n",
       "      <td>1</td>\n",
       "      <td>S</td>\n",
       "      <td>226</td>\n",
       "      <td>10320</td>\n",
       "      <td>16721</td>\n",
       "      <td>171</td>\n",
       "    </tr>\n",
       "    <tr>\n",
       "      <th>3</th>\n",
       "      <td>2024-04-24 00:00:00</td>\n",
       "      <td>456</td>\n",
       "      <td>1</td>\n",
       "      <td>S</td>\n",
       "      <td>0</td>\n",
       "      <td>10239</td>\n",
       "      <td>14166</td>\n",
       "      <td>170</td>\n",
       "    </tr>\n",
       "    <tr>\n",
       "      <th>4</th>\n",
       "      <td>2024-04-24 00:00:00</td>\n",
       "      <td>323</td>\n",
       "      <td>1</td>\n",
       "      <td>O</td>\n",
       "      <td>211</td>\n",
       "      <td>16723</td>\n",
       "      <td>16727</td>\n",
       "      <td>80</td>\n",
       "    </tr>\n",
       "  </tbody>\n",
       "</table>\n",
       "</div>"
      ],
      "text/plain": [
       "              datetime  id_uni  Livello direzione  traffic  Nodo da  Nodo a  \\\n",
       "0  2024-04-24 00:00:00     450        1         O       49    10384   10360   \n",
       "1  2024-04-24 00:00:00     362        1         S       98    10310   15570   \n",
       "2  2024-04-24 00:00:00     753        1         S      226    10320   16721   \n",
       "3  2024-04-24 00:00:00     456        1         S        0    10239   14166   \n",
       "4  2024-04-24 00:00:00     323        1         O      211    16723   16727   \n",
       "\n",
       "   angolo  \n",
       "0      81  \n",
       "1     170  \n",
       "2     171  \n",
       "3     170  \n",
       "4      80  "
      ]
     },
     "execution_count": 6,
     "metadata": {},
     "output_type": "execute_result"
    }
   ],
   "source": [
    "df_bol.head()"
   ]
  },
  {
   "cell_type": "code",
   "execution_count": 8,
   "id": "8990a95a",
   "metadata": {},
   "outputs": [
    {
     "data": {
      "application/vnd.microsoft.datawrangler.viewer.v0+json": {
       "columns": [
        {
         "name": "index",
         "rawType": "int64",
         "type": "integer"
        },
        {
         "name": "datetime",
         "rawType": "object",
         "type": "string"
        },
        {
         "name": "MTSStationID",
         "rawType": "int64",
         "type": "integer"
        },
        {
         "name": "DirectionCode",
         "rawType": "int64",
         "type": "integer"
        },
        {
         "name": "VehicleType",
         "rawType": "int64",
         "type": "integer"
        },
        {
         "name": "TransitCount",
         "rawType": "int64",
         "type": "integer"
        }
       ],
       "ref": "a6d252dc-c628-482b-ad64-562c6003cb6d",
       "rows": [
        [
         "0",
         "2024-01-01 00:00:00",
         "152",
         "0",
         "2",
         "367"
        ],
        [
         "1",
         "2024-01-01 00:00:00",
         "152",
         "0",
         "4",
         "6"
        ],
        [
         "2",
         "2024-01-01 00:00:00",
         "152",
         "0",
         "5",
         "1"
        ],
        [
         "3",
         "2024-01-01 00:00:00",
         "152",
         "0",
         "9",
         "1"
        ],
        [
         "4",
         "2024-01-01 00:00:00",
         "152",
         "1",
         "2",
         "489"
        ]
       ],
       "shape": {
        "columns": 5,
        "rows": 5
       }
      },
      "text/html": [
       "<div>\n",
       "<style scoped>\n",
       "    .dataframe tbody tr th:only-of-type {\n",
       "        vertical-align: middle;\n",
       "    }\n",
       "\n",
       "    .dataframe tbody tr th {\n",
       "        vertical-align: top;\n",
       "    }\n",
       "\n",
       "    .dataframe thead th {\n",
       "        text-align: right;\n",
       "    }\n",
       "</style>\n",
       "<table border=\"1\" class=\"dataframe\">\n",
       "  <thead>\n",
       "    <tr style=\"text-align: right;\">\n",
       "      <th></th>\n",
       "      <th>datetime</th>\n",
       "      <th>MTSStationID</th>\n",
       "      <th>DirectionCode</th>\n",
       "      <th>VehicleType</th>\n",
       "      <th>TransitCount</th>\n",
       "    </tr>\n",
       "  </thead>\n",
       "  <tbody>\n",
       "    <tr>\n",
       "      <th>0</th>\n",
       "      <td>2024-01-01 00:00:00</td>\n",
       "      <td>152</td>\n",
       "      <td>0</td>\n",
       "      <td>2</td>\n",
       "      <td>367</td>\n",
       "    </tr>\n",
       "    <tr>\n",
       "      <th>1</th>\n",
       "      <td>2024-01-01 00:00:00</td>\n",
       "      <td>152</td>\n",
       "      <td>0</td>\n",
       "      <td>4</td>\n",
       "      <td>6</td>\n",
       "    </tr>\n",
       "    <tr>\n",
       "      <th>2</th>\n",
       "      <td>2024-01-01 00:00:00</td>\n",
       "      <td>152</td>\n",
       "      <td>0</td>\n",
       "      <td>5</td>\n",
       "      <td>1</td>\n",
       "    </tr>\n",
       "    <tr>\n",
       "      <th>3</th>\n",
       "      <td>2024-01-01 00:00:00</td>\n",
       "      <td>152</td>\n",
       "      <td>0</td>\n",
       "      <td>9</td>\n",
       "      <td>1</td>\n",
       "    </tr>\n",
       "    <tr>\n",
       "      <th>4</th>\n",
       "      <td>2024-01-01 00:00:00</td>\n",
       "      <td>152</td>\n",
       "      <td>1</td>\n",
       "      <td>2</td>\n",
       "      <td>489</td>\n",
       "    </tr>\n",
       "  </tbody>\n",
       "</table>\n",
       "</div>"
      ],
      "text/plain": [
       "              datetime  MTSStationID  DirectionCode  VehicleType  TransitCount\n",
       "0  2024-01-01 00:00:00           152              0            2           367\n",
       "1  2024-01-01 00:00:00           152              0            4             6\n",
       "2  2024-01-01 00:00:00           152              0            5             1\n",
       "3  2024-01-01 00:00:00           152              0            9             1\n",
       "4  2024-01-01 00:00:00           152              1            2           489"
      ]
     },
     "execution_count": 8,
     "metadata": {},
     "output_type": "execute_result"
    }
   ],
   "source": [
    "df_regional = pd.read_csv('../data/traffic_data/regional_traffic_count_cleaned.csv', sep=';', nrows=5)\n",
    "df_regional.head()"
   ]
  }
 ],
 "metadata": {
  "kernelspec": {
   "display_name": "geo_env",
   "language": "python",
   "name": "python3"
  },
  "language_info": {
   "codemirror_mode": {
    "name": "ipython",
    "version": 3
   },
   "file_extension": ".py",
   "mimetype": "text/x-python",
   "name": "python",
   "nbconvert_exporter": "python",
   "pygments_lexer": "ipython3",
   "version": "3.11.11"
  }
 },
 "nbformat": 4,
 "nbformat_minor": 5
}
