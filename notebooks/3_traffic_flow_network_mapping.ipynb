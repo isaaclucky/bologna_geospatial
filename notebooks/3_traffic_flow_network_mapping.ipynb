{
 "cells": [
  {
   "cell_type": "markdown",
   "id": "131cf969",
   "metadata": {},
   "source": [
    "# Flow Mapping"
   ]
  },
  {
   "cell_type": "markdown",
   "id": "3cc54cc9",
   "metadata": {},
   "source": [
    "- This notebook contains the procedures to merge the regional and provincial data and create the traffic flow network."
   ]
  },
  {
   "cell_type": "code",
   "execution_count": 1,
   "id": "80df3268",
   "metadata": {},
   "outputs": [],
   "source": [
    "import pandas as pd\n",
    "import geopandas as gpd\n",
    "import osmnx as ox"
   ]
  },
  {
   "cell_type": "code",
   "execution_count": null,
   "id": "e7c0598b",
   "metadata": {},
   "outputs": [],
   "source": []
  }
 ],
 "metadata": {
  "kernelspec": {
   "display_name": "geo_env",
   "language": "python",
   "name": "python3"
  },
  "language_info": {
   "codemirror_mode": {
    "name": "ipython",
    "version": 3
   },
   "file_extension": ".py",
   "mimetype": "text/x-python",
   "name": "python",
   "nbconvert_exporter": "python",
   "pygments_lexer": "ipython3",
   "version": "3.11.11"
  }
 },
 "nbformat": 4,
 "nbformat_minor": 5
}
