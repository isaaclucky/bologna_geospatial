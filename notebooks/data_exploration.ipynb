{
 "cells": [
  {
   "cell_type": "markdown",
   "id": "2f3b095f",
   "metadata": {},
   "source": [
    "## Import Libraries"
   ]
  },
  {
   "cell_type": "code",
   "execution_count": 6,
   "id": "c1582e24",
   "metadata": {},
   "outputs": [
    {
     "name": "stdout",
     "output_type": "stream",
     "text": [
      "Loading data from: ../data/DGCTA - Flussi di Traffico.csv\n",
      "Successfully loaded 196 records\n"
     ]
    }
   ],
   "source": [
    "import sys\n",
    "import os\n",
    "\n",
    "# Add parent directory to path\n",
    "sys.path.append(os.path.dirname(os.getcwd()))\n",
    "\n",
    "# Import using package structure\n",
    "from scripts.data_downloader import DataDownloader\n",
    "from scripts.utils import rename_traffic_columns\n",
    "# Use with adjusted paths\n",
    "downloader = DataDownloader('../data/DGCTA - Flussi di Traffico.csv')"
   ]
  },
  {
   "cell_type": "code",
   "execution_count": 2,
   "id": "083ae6c5",
   "metadata": {},
   "outputs": [
    {
     "data": {
      "text/plain": [
       "{'dataset_id': 'DS-1944',\n",
       " 'url': 'https://rerdatahub.blob.core.windows.net/open-datahub/DS-1944/2021/01_Gennaio_2021.csv',\n",
       " 'frequency': 'SETTIMANALE',\n",
       " 'status_code': 'S',\n",
       " 'timestamp': '2024-08-02 17:43:31',\n",
       " 'availability': 'OPEN'}"
      ]
     },
     "execution_count": 2,
     "metadata": {},
     "output_type": "execute_result"
    }
   ],
   "source": [
    "# downloader.data_map\n",
    "downloader.data_map[2021,1]  "
   ]
  },
  {
   "cell_type": "code",
   "execution_count": 3,
   "id": "9b13dbcc",
   "metadata": {},
   "outputs": [
    {
     "name": "stdout",
     "output_type": "stream",
     "text": [
      "Downloading data for 2020-01...\n",
      "URL: https://rerdatahub.blob.core.windows.net/open-datahub/DS-1944/2020/01_Gennaio_2020.csv\n",
      "Progress: 100.0%\n",
      "Successfully downloaded to: downloads/01_Gennaio_2020.csv\n",
      "Data loaded successfully. Shape: (3568869, 8)\n"
     ]
    }
   ],
   "source": [
    "df = downloader.download_and_load_data(year=2020, month=1)"
   ]
  },
  {
   "cell_type": "code",
   "execution_count": null,
   "id": "90bc9b4e",
   "metadata": {},
   "outputs": [],
   "source": []
  },
  {
   "cell_type": "code",
   "execution_count": 7,
   "id": "abb4460a",
   "metadata": {},
   "outputs": [],
   "source": [
    "df = rename_traffic_columns(df)"
   ]
  },
  {
   "cell_type": "code",
   "execution_count": 10,
   "id": "6bdf9f1c",
   "metadata": {},
   "outputs": [
    {
     "data": {
      "application/vnd.microsoft.datawrangler.viewer.v0+json": {
       "columns": [
        {
         "name": "index",
         "rawType": "int64",
         "type": "integer"
        },
        {
         "name": "Year",
         "rawType": "int64",
         "type": "integer"
        },
        {
         "name": "Month",
         "rawType": "int64",
         "type": "integer"
        },
        {
         "name": "Day",
         "rawType": "int64",
         "type": "integer"
        },
        {
         "name": "HourMinute",
         "rawType": "object",
         "type": "string"
        },
        {
         "name": "MTSStationID",
         "rawType": "int64",
         "type": "integer"
        },
        {
         "name": "DirectionCode",
         "rawType": "int64",
         "type": "integer"
        },
        {
         "name": "VehicleType",
         "rawType": "int64",
         "type": "integer"
        },
        {
         "name": "TransitCount",
         "rawType": "int64",
         "type": "integer"
        }
       ],
       "ref": "8850acd9-5975-4d53-97b9-bbdf2e811caf",
       "rows": [
        [
         "3568859",
         "2020",
         "202001",
         "20200131",
         "23:45",
         "675",
         "0",
         "4",
         "2"
        ],
        [
         "3568860",
         "2020",
         "202001",
         "20200131",
         "23:45",
         "675",
         "0",
         "7",
         "1"
        ],
        [
         "3568861",
         "2020",
         "202001",
         "20200131",
         "23:45",
         "675",
         "0",
         "8",
         "3"
        ],
        [
         "3568862",
         "2020",
         "202001",
         "20200131",
         "23:45",
         "675",
         "1",
         "2",
         "7"
        ],
        [
         "3568863",
         "2020",
         "202001",
         "20200131",
         "23:45",
         "675",
         "1",
         "4",
         "5"
        ],
        [
         "3568864",
         "2020",
         "202001",
         "20200131",
         "23:45",
         "675",
         "1",
         "8",
         "4"
        ],
        [
         "3568865",
         "2020",
         "202001",
         "20200131",
         "23:45",
         "676",
         "0",
         "2",
         "37"
        ],
        [
         "3568866",
         "2020",
         "202001",
         "20200131",
         "23:45",
         "676",
         "0",
         "8",
         "2"
        ],
        [
         "3568867",
         "2020",
         "202001",
         "20200131",
         "23:45",
         "676",
         "1",
         "2",
         "46"
        ],
        [
         "3568868",
         "2020",
         "202001",
         "20200131",
         "23:45",
         "676",
         "1",
         "4",
         "2"
        ]
       ],
       "shape": {
        "columns": 8,
        "rows": 10
       }
      },
      "text/html": [
       "<div>\n",
       "<style scoped>\n",
       "    .dataframe tbody tr th:only-of-type {\n",
       "        vertical-align: middle;\n",
       "    }\n",
       "\n",
       "    .dataframe tbody tr th {\n",
       "        vertical-align: top;\n",
       "    }\n",
       "\n",
       "    .dataframe thead th {\n",
       "        text-align: right;\n",
       "    }\n",
       "</style>\n",
       "<table border=\"1\" class=\"dataframe\">\n",
       "  <thead>\n",
       "    <tr style=\"text-align: right;\">\n",
       "      <th></th>\n",
       "      <th>Year</th>\n",
       "      <th>Month</th>\n",
       "      <th>Day</th>\n",
       "      <th>HourMinute</th>\n",
       "      <th>MTSStationID</th>\n",
       "      <th>DirectionCode</th>\n",
       "      <th>VehicleType</th>\n",
       "      <th>TransitCount</th>\n",
       "    </tr>\n",
       "  </thead>\n",
       "  <tbody>\n",
       "    <tr>\n",
       "      <th>3568859</th>\n",
       "      <td>2020</td>\n",
       "      <td>202001</td>\n",
       "      <td>20200131</td>\n",
       "      <td>23:45</td>\n",
       "      <td>675</td>\n",
       "      <td>0</td>\n",
       "      <td>4</td>\n",
       "      <td>2</td>\n",
       "    </tr>\n",
       "    <tr>\n",
       "      <th>3568860</th>\n",
       "      <td>2020</td>\n",
       "      <td>202001</td>\n",
       "      <td>20200131</td>\n",
       "      <td>23:45</td>\n",
       "      <td>675</td>\n",
       "      <td>0</td>\n",
       "      <td>7</td>\n",
       "      <td>1</td>\n",
       "    </tr>\n",
       "    <tr>\n",
       "      <th>3568861</th>\n",
       "      <td>2020</td>\n",
       "      <td>202001</td>\n",
       "      <td>20200131</td>\n",
       "      <td>23:45</td>\n",
       "      <td>675</td>\n",
       "      <td>0</td>\n",
       "      <td>8</td>\n",
       "      <td>3</td>\n",
       "    </tr>\n",
       "    <tr>\n",
       "      <th>3568862</th>\n",
       "      <td>2020</td>\n",
       "      <td>202001</td>\n",
       "      <td>20200131</td>\n",
       "      <td>23:45</td>\n",
       "      <td>675</td>\n",
       "      <td>1</td>\n",
       "      <td>2</td>\n",
       "      <td>7</td>\n",
       "    </tr>\n",
       "    <tr>\n",
       "      <th>3568863</th>\n",
       "      <td>2020</td>\n",
       "      <td>202001</td>\n",
       "      <td>20200131</td>\n",
       "      <td>23:45</td>\n",
       "      <td>675</td>\n",
       "      <td>1</td>\n",
       "      <td>4</td>\n",
       "      <td>5</td>\n",
       "    </tr>\n",
       "    <tr>\n",
       "      <th>3568864</th>\n",
       "      <td>2020</td>\n",
       "      <td>202001</td>\n",
       "      <td>20200131</td>\n",
       "      <td>23:45</td>\n",
       "      <td>675</td>\n",
       "      <td>1</td>\n",
       "      <td>8</td>\n",
       "      <td>4</td>\n",
       "    </tr>\n",
       "    <tr>\n",
       "      <th>3568865</th>\n",
       "      <td>2020</td>\n",
       "      <td>202001</td>\n",
       "      <td>20200131</td>\n",
       "      <td>23:45</td>\n",
       "      <td>676</td>\n",
       "      <td>0</td>\n",
       "      <td>2</td>\n",
       "      <td>37</td>\n",
       "    </tr>\n",
       "    <tr>\n",
       "      <th>3568866</th>\n",
       "      <td>2020</td>\n",
       "      <td>202001</td>\n",
       "      <td>20200131</td>\n",
       "      <td>23:45</td>\n",
       "      <td>676</td>\n",
       "      <td>0</td>\n",
       "      <td>8</td>\n",
       "      <td>2</td>\n",
       "    </tr>\n",
       "    <tr>\n",
       "      <th>3568867</th>\n",
       "      <td>2020</td>\n",
       "      <td>202001</td>\n",
       "      <td>20200131</td>\n",
       "      <td>23:45</td>\n",
       "      <td>676</td>\n",
       "      <td>1</td>\n",
       "      <td>2</td>\n",
       "      <td>46</td>\n",
       "    </tr>\n",
       "    <tr>\n",
       "      <th>3568868</th>\n",
       "      <td>2020</td>\n",
       "      <td>202001</td>\n",
       "      <td>20200131</td>\n",
       "      <td>23:45</td>\n",
       "      <td>676</td>\n",
       "      <td>1</td>\n",
       "      <td>4</td>\n",
       "      <td>2</td>\n",
       "    </tr>\n",
       "  </tbody>\n",
       "</table>\n",
       "</div>"
      ],
      "text/plain": [
       "         Year   Month       Day HourMinute  MTSStationID  DirectionCode  \\\n",
       "3568859  2020  202001  20200131      23:45           675              0   \n",
       "3568860  2020  202001  20200131      23:45           675              0   \n",
       "3568861  2020  202001  20200131      23:45           675              0   \n",
       "3568862  2020  202001  20200131      23:45           675              1   \n",
       "3568863  2020  202001  20200131      23:45           675              1   \n",
       "3568864  2020  202001  20200131      23:45           675              1   \n",
       "3568865  2020  202001  20200131      23:45           676              0   \n",
       "3568866  2020  202001  20200131      23:45           676              0   \n",
       "3568867  2020  202001  20200131      23:45           676              1   \n",
       "3568868  2020  202001  20200131      23:45           676              1   \n",
       "\n",
       "         VehicleType  TransitCount  \n",
       "3568859            4             2  \n",
       "3568860            7             1  \n",
       "3568861            8             3  \n",
       "3568862            2             7  \n",
       "3568863            4             5  \n",
       "3568864            8             4  \n",
       "3568865            2            37  \n",
       "3568866            8             2  \n",
       "3568867            2            46  \n",
       "3568868            4             2  "
      ]
     },
     "execution_count": 10,
     "metadata": {},
     "output_type": "execute_result"
    }
   ],
   "source": [
    "df.tail(10)"
   ]
  },
  {
   "cell_type": "code",
   "execution_count": 11,
   "id": "3076c597",
   "metadata": {},
   "outputs": [
    {
     "data": {
      "text/plain": [
       "array([  6,   7,   9,  12,  16,  25,  52,  53,  98, 100, 104, 107, 108,\n",
       "       112, 115, 116, 117, 122, 123, 124, 125, 126, 127, 128, 130, 131,\n",
       "       132, 133, 134, 137, 138, 139, 140, 143, 146, 147, 149, 150, 151,\n",
       "       152, 153, 154, 155, 157, 158, 170, 171, 173, 174, 176, 177, 182,\n",
       "       184, 186, 188, 219, 220, 221, 222, 223, 227, 228, 236, 238, 239,\n",
       "       243, 244, 245, 246, 247, 252, 256, 258, 259, 260, 262, 263, 274,\n",
       "       275, 276, 277, 278, 279, 281, 282, 285, 287, 288, 289, 290, 291,\n",
       "       292, 294, 298, 300, 303, 304, 305, 307, 308, 311, 312, 314, 318,\n",
       "       323, 328, 331, 332, 334, 336, 337, 339, 340, 342, 343, 344, 349,\n",
       "       350, 354, 355, 356, 357, 376, 377, 383, 389, 390, 391, 393, 396,\n",
       "       400, 401, 402, 403, 404, 405, 410, 411, 425, 426, 427, 428, 429,\n",
       "       431, 432, 436, 437, 438, 439, 441, 442, 445, 446, 447, 448, 449,\n",
       "       450, 451, 452, 453, 504, 505, 601, 602, 605, 607, 608, 610, 612,\n",
       "       613, 614, 615, 616, 617, 618, 620, 621, 623, 624, 627, 628, 629,\n",
       "       633, 634, 635, 636, 637, 638, 639, 651, 652, 654, 655, 661, 662,\n",
       "       663, 665, 670, 675, 676, 118, 295, 399, 434, 218, 280, 148, 385])"
      ]
     },
     "execution_count": 11,
     "metadata": {},
     "output_type": "execute_result"
    }
   ],
   "source": [
    "df.MTSStationID.unique()"
   ]
  }
 ],
 "metadata": {
  "kernelspec": {
   "display_name": "geo_env",
   "language": "python",
   "name": "python3"
  },
  "language_info": {
   "codemirror_mode": {
    "name": "ipython",
    "version": 3
   },
   "file_extension": ".py",
   "mimetype": "text/x-python",
   "name": "python",
   "nbconvert_exporter": "python",
   "pygments_lexer": "ipython3",
   "version": "3.11.11"
  }
 },
 "nbformat": 4,
 "nbformat_minor": 5
}
