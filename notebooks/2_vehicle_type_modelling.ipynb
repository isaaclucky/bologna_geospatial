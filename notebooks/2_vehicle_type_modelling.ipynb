{
 "cells": [
  {
   "cell_type": "code",
   "execution_count": 1,
   "id": "6d933629",
   "metadata": {},
   "outputs": [],
   "source": [
    "import pandas as pd\n",
    "import numpy as np\n",
    "from datetime import datetime\n",
    "import geopandas as gpd\n",
    "import os, sys\n",
    "\n",
    " \n",
    "sys.path.append(os.path.dirname(os.getcwd()))\n",
    "from scripts.vehicle_type_model import VehicleTypeModel, print_memory_usage"
   ]
  },
  {
   "cell_type": "code",
   "execution_count": 2,
   "id": "2bf3ebc7",
   "metadata": {},
   "outputs": [],
   "source": [
    "model = VehicleTypeModel(\n",
    "    traffic_csv=\"../data/traffic_data/bologna_traffic_time_series.csv\",\n",
    "    meta_csv=\"../data/traffic_data/bologna_traffic_metadata.csv\",\n",
    "    ltz_shp=\"../data/ltz_zones/zona-a-traffico-limitato.shp\",\n",
    "    landuse_gpkg=\"../data/land_use/landuse_bologna.gpkg\",\n",
    "    validate=False,\n",
    "    # nrows=5000  # Limit rows for performance\n",
    ")\n"
   ]
  },
  {
   "cell_type": "code",
   "execution_count": 3,
   "id": "6731286a",
   "metadata": {},
   "outputs": [
    {
     "name": "stdout",
     "output_type": "stream",
     "text": [
      "Starting processing...\n",
      "Memory usage: 162.52 MB\n",
      "Loading metadata...\n",
      "Processing geodata...\n",
      "Processing traffic data in chunks...\n",
      "Results saved to ../data/traffic_data/bologna_traffic_time_series_v2.csv\n",
      "Processing complete!\n",
      "\n",
      "Processing complete!\n",
      "Memory usage: 278.20 MB\n"
     ]
    }
   ],
   "source": [
    "\n",
    "print(\"Starting processing...\")\n",
    "print_memory_usage()\n",
    "\n",
    "# Run pipeline with output file\n",
    "output_file = \"../data/traffic_data/bologna_traffic_time_series_v2.csv\"\n",
    "model.run_full_pipeline(output_file)\n",
    "\n",
    "print(\"\\nProcessing complete!\")\n",
    "print_memory_usage()\n"
   ]
  }
 ],
 "metadata": {
  "kernelspec": {
   "display_name": "geo_env",
   "language": "python",
   "name": "python3"
  },
  "language_info": {
   "codemirror_mode": {
    "name": "ipython",
    "version": 3
   },
   "file_extension": ".py",
   "mimetype": "text/x-python",
   "name": "python",
   "nbconvert_exporter": "python",
   "pygments_lexer": "ipython3",
   "version": "3.11.11"
  }
 },
 "nbformat": 4,
 "nbformat_minor": 5
}
