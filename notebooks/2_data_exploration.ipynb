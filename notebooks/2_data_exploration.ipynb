{
 "cells": [
  {
   "cell_type": "markdown",
   "id": "2f3b095f",
   "metadata": {},
   "source": [
    "## Import Libraries"
   ]
  },
  {
   "cell_type": "code",
   "execution_count": 1,
   "id": "c1582e24",
   "metadata": {},
   "outputs": [
    {
     "name": "stdout",
     "output_type": "stream",
     "text": [
      "Loading data from: ../data/DGCTA - Flussi di Traffico.csv\n",
      "Successfully loaded 196 records\n"
     ]
    }
   ],
   "source": [
    "import sys\n",
    "import os\n",
    "import pandas as pd\n",
    "# Add parent directory to path\n",
    "sys.path.append(os.path.dirname(os.getcwd()))\n",
    "\n",
    "# Import using package structure\n",
    "from scripts.data_downloader import DataDownloader\n",
    "from scripts.utils import rename_traffic_columns\n",
    "# Use with adjusted paths\n",
    "downloader = DataDownloader('../data/DGCTA - Flussi di Traffico.csv')"
   ]
  },
  {
   "cell_type": "markdown",
   "id": "3768894d",
   "metadata": {},
   "source": [
    "## Load Data"
   ]
  },
  {
   "cell_type": "code",
   "execution_count": null,
   "id": "083ae6c5",
   "metadata": {},
   "outputs": [
    {
     "data": {
      "text/plain": [
       "{'dataset_id': 'DS-1944',\n",
       " 'url': 'https://rerdatahub.blob.core.windows.net/open-datahub/DS-1944/2021/01_Gennaio_2021.csv',\n",
       " 'frequency': 'SETTIMANALE',\n",
       " 'status_code': 'S',\n",
       " 'timestamp': '2024-08-02 17:43:31',\n",
       " 'availability': 'OPEN'}"
      ]
     },
     "execution_count": 2,
     "metadata": {},
     "output_type": "execute_result"
    }
   ],
   "source": [
    "# downloader.data_map\n",
    "downloader.data_map[2021,1]  "
   ]
  },
  {
   "cell_type": "code",
   "execution_count": null,
   "id": "9b13dbcc",
   "metadata": {},
   "outputs": [
    {
     "name": "stdout",
     "output_type": "stream",
     "text": [
      "Downloading data for 2020-01...\n",
      "URL: https://rerdatahub.blob.core.windows.net/open-datahub/DS-1944/2020/01_Gennaio_2020.csv\n",
      "Progress: 100.0%\n",
      "Successfully downloaded to: downloads/01_Gennaio_2020.csv\n",
      "Data loaded successfully. Shape: (3568869, 8)\n"
     ]
    }
   ],
   "source": [
    "df = downloader.download_and_load_data(year=2020, month=1)"
   ]
  },
  {
   "cell_type": "code",
   "execution_count": 7,
   "id": "abb4460a",
   "metadata": {},
   "outputs": [],
   "source": [
    "df = rename_traffic_columns(df)"
   ]
  },
  {
   "cell_type": "markdown",
   "id": "37714935",
   "metadata": {},
   "source": [
    "## Preprocess Data"
   ]
  },
  {
   "cell_type": "code",
   "execution_count": null,
   "id": "9739b97c",
   "metadata": {},
   "outputs": [],
   "source": [
    "# day is currently in the format 'YYYYMMDD'\n",
    "df['date'] = pd.to_datetime(df['Day'], format='%Y%m%d')\n",
    "df['Day'] = df['date'].dt.day\n",
    "df['Month'] = df['date'].dt.month\n",
    "\n",
    "# drop the 'date' column if you don't need it anymore\n",
    "df.drop(columns=['year'], inplace=True)"
   ]
  },
  {
   "cell_type": "code",
   "execution_count": 31,
   "id": "14d3dc14",
   "metadata": {},
   "outputs": [
    {
     "data": {
      "application/vnd.microsoft.datawrangler.viewer.v0+json": {
       "columns": [
        {
         "name": "index",
         "rawType": "object",
         "type": "string"
        },
        {
         "name": "0",
         "rawType": "object",
         "type": "unknown"
        }
       ],
       "ref": "677ec8f2-075c-40d4-b34e-375e7a4d5b74",
       "rows": [
        [
         "Year",
         "int64"
        ],
        [
         "Month",
         "int32"
        ],
        [
         "Day",
         "int32"
        ],
        [
         "HourMinute",
         "object"
        ],
        [
         "MTSStationID",
         "int64"
        ],
        [
         "DirectionCode",
         "int64"
        ],
        [
         "VehicleType",
         "int64"
        ],
        [
         "TransitCount",
         "int64"
        ]
       ],
       "shape": {
        "columns": 1,
        "rows": 8
       }
      },
      "text/plain": [
       "Year              int64\n",
       "Month             int32\n",
       "Day               int32\n",
       "HourMinute       object\n",
       "MTSStationID      int64\n",
       "DirectionCode     int64\n",
       "VehicleType       int64\n",
       "TransitCount      int64\n",
       "dtype: object"
      ]
     },
     "execution_count": 31,
     "metadata": {},
     "output_type": "execute_result"
    }
   ],
   "source": [
    "df.dtypes"
   ]
  },
  {
   "cell_type": "markdown",
   "id": "0987cbde",
   "metadata": {},
   "source": [
    "## Explore Data"
   ]
  },
  {
   "cell_type": "code",
   "execution_count": 32,
   "id": "0763f7d8",
   "metadata": {},
   "outputs": [
    {
     "name": "stdout",
     "output_type": "stream",
     "text": [
      "<class 'pandas.core.frame.DataFrame'>\n",
      "RangeIndex: 3568869 entries, 0 to 3568868\n",
      "Data columns (total 8 columns):\n",
      " #   Column         Dtype \n",
      "---  ------         ----- \n",
      " 0   Year           int64 \n",
      " 1   Month          int32 \n",
      " 2   Day            int32 \n",
      " 3   HourMinute     object\n",
      " 4   MTSStationID   int64 \n",
      " 5   DirectionCode  int64 \n",
      " 6   VehicleType    int64 \n",
      " 7   TransitCount   int64 \n",
      "dtypes: int32(2), int64(5), object(1)\n",
      "memory usage: 190.6+ MB\n"
     ]
    }
   ],
   "source": [
    "df.info()"
   ]
  },
  {
   "cell_type": "code",
   "execution_count": 36,
   "id": "de5cf9c7",
   "metadata": {},
   "outputs": [
    {
     "data": {
      "application/vnd.microsoft.datawrangler.viewer.v0+json": {
       "columns": [
        {
         "name": "index",
         "rawType": "object",
         "type": "string"
        },
        {
         "name": "Year",
         "rawType": "float64",
         "type": "float"
        },
        {
         "name": "Month",
         "rawType": "float64",
         "type": "float"
        },
        {
         "name": "Day",
         "rawType": "float64",
         "type": "float"
        },
        {
         "name": "MTSStationID",
         "rawType": "float64",
         "type": "float"
        },
        {
         "name": "DirectionCode",
         "rawType": "float64",
         "type": "float"
        },
        {
         "name": "VehicleType",
         "rawType": "float64",
         "type": "float"
        },
        {
         "name": "TransitCount",
         "rawType": "float64",
         "type": "float"
        }
       ],
       "ref": "46364688-3930-4013-af93-12cd4d8b43a6",
       "rows": [
        [
         "count",
         "3568869.0",
         "3568869.0",
         "3568869.0",
         "3568869.0",
         "3568869.0",
         "3568869.0",
         "3568869.0"
        ],
        [
         "mean",
         "2020.0",
         "1.0",
         "16.715080323766436",
         "332.4169800012273",
         "0.5002458762145655",
         "4.553951405893576",
         "19.79027529449806"
        ],
        [
         "std",
         "0.0",
         "0.0",
         "8.773470823243407",
         "179.64721230868813",
         "0.5000000095950934",
         "2.312943182876542",
         "43.08846793618419"
        ],
        [
         "min",
         "2020.0",
         "1.0",
         "1.0",
         "6.0",
         "0.0",
         "0.0",
         "1.0"
        ],
        [
         "25%",
         "2020.0",
         "1.0",
         "9.0",
         "174.0",
         "0.0",
         "2.0",
         "1.0"
        ],
        [
         "50%",
         "2020.0",
         "1.0",
         "17.0",
         "305.0",
         "1.0",
         "4.0",
         "3.0"
        ],
        [
         "75%",
         "2020.0",
         "1.0",
         "24.0",
         "441.0",
         "1.0",
         "6.0",
         "14.0"
        ],
        [
         "max",
         "2020.0",
         "1.0",
         "31.0",
         "676.0",
         "1.0",
         "10.0",
         "793.0"
        ]
       ],
       "shape": {
        "columns": 7,
        "rows": 8
       }
      },
      "text/html": [
       "<div>\n",
       "<style scoped>\n",
       "    .dataframe tbody tr th:only-of-type {\n",
       "        vertical-align: middle;\n",
       "    }\n",
       "\n",
       "    .dataframe tbody tr th {\n",
       "        vertical-align: top;\n",
       "    }\n",
       "\n",
       "    .dataframe thead th {\n",
       "        text-align: right;\n",
       "    }\n",
       "</style>\n",
       "<table border=\"1\" class=\"dataframe\">\n",
       "  <thead>\n",
       "    <tr style=\"text-align: right;\">\n",
       "      <th></th>\n",
       "      <th>Year</th>\n",
       "      <th>Month</th>\n",
       "      <th>Day</th>\n",
       "      <th>MTSStationID</th>\n",
       "      <th>DirectionCode</th>\n",
       "      <th>VehicleType</th>\n",
       "      <th>TransitCount</th>\n",
       "    </tr>\n",
       "  </thead>\n",
       "  <tbody>\n",
       "    <tr>\n",
       "      <th>count</th>\n",
       "      <td>3568869.0</td>\n",
       "      <td>3568869.0</td>\n",
       "      <td>3.568869e+06</td>\n",
       "      <td>3.568869e+06</td>\n",
       "      <td>3.568869e+06</td>\n",
       "      <td>3.568869e+06</td>\n",
       "      <td>3.568869e+06</td>\n",
       "    </tr>\n",
       "    <tr>\n",
       "      <th>mean</th>\n",
       "      <td>2020.0</td>\n",
       "      <td>1.0</td>\n",
       "      <td>1.671508e+01</td>\n",
       "      <td>3.324170e+02</td>\n",
       "      <td>5.002459e-01</td>\n",
       "      <td>4.553951e+00</td>\n",
       "      <td>1.979028e+01</td>\n",
       "    </tr>\n",
       "    <tr>\n",
       "      <th>std</th>\n",
       "      <td>0.0</td>\n",
       "      <td>0.0</td>\n",
       "      <td>8.773471e+00</td>\n",
       "      <td>1.796472e+02</td>\n",
       "      <td>5.000000e-01</td>\n",
       "      <td>2.312943e+00</td>\n",
       "      <td>4.308847e+01</td>\n",
       "    </tr>\n",
       "    <tr>\n",
       "      <th>min</th>\n",
       "      <td>2020.0</td>\n",
       "      <td>1.0</td>\n",
       "      <td>1.000000e+00</td>\n",
       "      <td>6.000000e+00</td>\n",
       "      <td>0.000000e+00</td>\n",
       "      <td>0.000000e+00</td>\n",
       "      <td>1.000000e+00</td>\n",
       "    </tr>\n",
       "    <tr>\n",
       "      <th>25%</th>\n",
       "      <td>2020.0</td>\n",
       "      <td>1.0</td>\n",
       "      <td>9.000000e+00</td>\n",
       "      <td>1.740000e+02</td>\n",
       "      <td>0.000000e+00</td>\n",
       "      <td>2.000000e+00</td>\n",
       "      <td>1.000000e+00</td>\n",
       "    </tr>\n",
       "    <tr>\n",
       "      <th>50%</th>\n",
       "      <td>2020.0</td>\n",
       "      <td>1.0</td>\n",
       "      <td>1.700000e+01</td>\n",
       "      <td>3.050000e+02</td>\n",
       "      <td>1.000000e+00</td>\n",
       "      <td>4.000000e+00</td>\n",
       "      <td>3.000000e+00</td>\n",
       "    </tr>\n",
       "    <tr>\n",
       "      <th>75%</th>\n",
       "      <td>2020.0</td>\n",
       "      <td>1.0</td>\n",
       "      <td>2.400000e+01</td>\n",
       "      <td>4.410000e+02</td>\n",
       "      <td>1.000000e+00</td>\n",
       "      <td>6.000000e+00</td>\n",
       "      <td>1.400000e+01</td>\n",
       "    </tr>\n",
       "    <tr>\n",
       "      <th>max</th>\n",
       "      <td>2020.0</td>\n",
       "      <td>1.0</td>\n",
       "      <td>3.100000e+01</td>\n",
       "      <td>6.760000e+02</td>\n",
       "      <td>1.000000e+00</td>\n",
       "      <td>1.000000e+01</td>\n",
       "      <td>7.930000e+02</td>\n",
       "    </tr>\n",
       "  </tbody>\n",
       "</table>\n",
       "</div>"
      ],
      "text/plain": [
       "            Year      Month           Day  MTSStationID  DirectionCode  \\\n",
       "count  3568869.0  3568869.0  3.568869e+06  3.568869e+06   3.568869e+06   \n",
       "mean      2020.0        1.0  1.671508e+01  3.324170e+02   5.002459e-01   \n",
       "std          0.0        0.0  8.773471e+00  1.796472e+02   5.000000e-01   \n",
       "min       2020.0        1.0  1.000000e+00  6.000000e+00   0.000000e+00   \n",
       "25%       2020.0        1.0  9.000000e+00  1.740000e+02   0.000000e+00   \n",
       "50%       2020.0        1.0  1.700000e+01  3.050000e+02   1.000000e+00   \n",
       "75%       2020.0        1.0  2.400000e+01  4.410000e+02   1.000000e+00   \n",
       "max       2020.0        1.0  3.100000e+01  6.760000e+02   1.000000e+00   \n",
       "\n",
       "        VehicleType  TransitCount  \n",
       "count  3.568869e+06  3.568869e+06  \n",
       "mean   4.553951e+00  1.979028e+01  \n",
       "std    2.312943e+00  4.308847e+01  \n",
       "min    0.000000e+00  1.000000e+00  \n",
       "25%    2.000000e+00  1.000000e+00  \n",
       "50%    4.000000e+00  3.000000e+00  \n",
       "75%    6.000000e+00  1.400000e+01  \n",
       "max    1.000000e+01  7.930000e+02  "
      ]
     },
     "execution_count": 36,
     "metadata": {},
     "output_type": "execute_result"
    }
   ],
   "source": [
    "df.describe()"
   ]
  },
  {
   "cell_type": "code",
   "execution_count": 34,
   "id": "052b1377",
   "metadata": {},
   "outputs": [
    {
     "data": {
      "text/plain": [
       "array([ 1,  2,  3,  4,  5,  6,  7,  8,  9, 10, 11, 12, 13, 14, 15, 16, 17,\n",
       "       18, 19, 20, 21, 22, 23, 24, 25, 26, 27, 28, 29, 30, 31],\n",
       "      dtype=int32)"
      ]
     },
     "execution_count": 34,
     "metadata": {},
     "output_type": "execute_result"
    }
   ],
   "source": [
    "df.Day.unique()"
   ]
  },
  {
   "cell_type": "code",
   "execution_count": 35,
   "id": "c5e870e6",
   "metadata": {},
   "outputs": [
    {
     "data": {
      "text/plain": [
       "array([1], dtype=int32)"
      ]
     },
     "execution_count": 35,
     "metadata": {},
     "output_type": "execute_result"
    }
   ],
   "source": [
    "df.Month.unique()"
   ]
  },
  {
   "cell_type": "code",
   "execution_count": 37,
   "id": "6bdf9f1c",
   "metadata": {},
   "outputs": [
    {
     "data": {
      "application/vnd.microsoft.datawrangler.viewer.v0+json": {
       "columns": [
        {
         "name": "index",
         "rawType": "int64",
         "type": "integer"
        },
        {
         "name": "Year",
         "rawType": "int64",
         "type": "integer"
        },
        {
         "name": "Month",
         "rawType": "int32",
         "type": "integer"
        },
        {
         "name": "Day",
         "rawType": "int32",
         "type": "integer"
        },
        {
         "name": "HourMinute",
         "rawType": "object",
         "type": "string"
        },
        {
         "name": "MTSStationID",
         "rawType": "int64",
         "type": "integer"
        },
        {
         "name": "DirectionCode",
         "rawType": "int64",
         "type": "integer"
        },
        {
         "name": "VehicleType",
         "rawType": "int64",
         "type": "integer"
        },
        {
         "name": "TransitCount",
         "rawType": "int64",
         "type": "integer"
        }
       ],
       "ref": "0a81e52e-c307-4e0e-840e-180d3c3c49e0",
       "rows": [
        [
         "3568859",
         "2020",
         "1",
         "31",
         "23:45",
         "675",
         "0",
         "4",
         "2"
        ],
        [
         "3568860",
         "2020",
         "1",
         "31",
         "23:45",
         "675",
         "0",
         "7",
         "1"
        ],
        [
         "3568861",
         "2020",
         "1",
         "31",
         "23:45",
         "675",
         "0",
         "8",
         "3"
        ],
        [
         "3568862",
         "2020",
         "1",
         "31",
         "23:45",
         "675",
         "1",
         "2",
         "7"
        ],
        [
         "3568863",
         "2020",
         "1",
         "31",
         "23:45",
         "675",
         "1",
         "4",
         "5"
        ],
        [
         "3568864",
         "2020",
         "1",
         "31",
         "23:45",
         "675",
         "1",
         "8",
         "4"
        ],
        [
         "3568865",
         "2020",
         "1",
         "31",
         "23:45",
         "676",
         "0",
         "2",
         "37"
        ],
        [
         "3568866",
         "2020",
         "1",
         "31",
         "23:45",
         "676",
         "0",
         "8",
         "2"
        ],
        [
         "3568867",
         "2020",
         "1",
         "31",
         "23:45",
         "676",
         "1",
         "2",
         "46"
        ],
        [
         "3568868",
         "2020",
         "1",
         "31",
         "23:45",
         "676",
         "1",
         "4",
         "2"
        ]
       ],
       "shape": {
        "columns": 8,
        "rows": 10
       }
      },
      "text/html": [
       "<div>\n",
       "<style scoped>\n",
       "    .dataframe tbody tr th:only-of-type {\n",
       "        vertical-align: middle;\n",
       "    }\n",
       "\n",
       "    .dataframe tbody tr th {\n",
       "        vertical-align: top;\n",
       "    }\n",
       "\n",
       "    .dataframe thead th {\n",
       "        text-align: right;\n",
       "    }\n",
       "</style>\n",
       "<table border=\"1\" class=\"dataframe\">\n",
       "  <thead>\n",
       "    <tr style=\"text-align: right;\">\n",
       "      <th></th>\n",
       "      <th>Year</th>\n",
       "      <th>Month</th>\n",
       "      <th>Day</th>\n",
       "      <th>HourMinute</th>\n",
       "      <th>MTSStationID</th>\n",
       "      <th>DirectionCode</th>\n",
       "      <th>VehicleType</th>\n",
       "      <th>TransitCount</th>\n",
       "    </tr>\n",
       "  </thead>\n",
       "  <tbody>\n",
       "    <tr>\n",
       "      <th>3568859</th>\n",
       "      <td>2020</td>\n",
       "      <td>1</td>\n",
       "      <td>31</td>\n",
       "      <td>23:45</td>\n",
       "      <td>675</td>\n",
       "      <td>0</td>\n",
       "      <td>4</td>\n",
       "      <td>2</td>\n",
       "    </tr>\n",
       "    <tr>\n",
       "      <th>3568860</th>\n",
       "      <td>2020</td>\n",
       "      <td>1</td>\n",
       "      <td>31</td>\n",
       "      <td>23:45</td>\n",
       "      <td>675</td>\n",
       "      <td>0</td>\n",
       "      <td>7</td>\n",
       "      <td>1</td>\n",
       "    </tr>\n",
       "    <tr>\n",
       "      <th>3568861</th>\n",
       "      <td>2020</td>\n",
       "      <td>1</td>\n",
       "      <td>31</td>\n",
       "      <td>23:45</td>\n",
       "      <td>675</td>\n",
       "      <td>0</td>\n",
       "      <td>8</td>\n",
       "      <td>3</td>\n",
       "    </tr>\n",
       "    <tr>\n",
       "      <th>3568862</th>\n",
       "      <td>2020</td>\n",
       "      <td>1</td>\n",
       "      <td>31</td>\n",
       "      <td>23:45</td>\n",
       "      <td>675</td>\n",
       "      <td>1</td>\n",
       "      <td>2</td>\n",
       "      <td>7</td>\n",
       "    </tr>\n",
       "    <tr>\n",
       "      <th>3568863</th>\n",
       "      <td>2020</td>\n",
       "      <td>1</td>\n",
       "      <td>31</td>\n",
       "      <td>23:45</td>\n",
       "      <td>675</td>\n",
       "      <td>1</td>\n",
       "      <td>4</td>\n",
       "      <td>5</td>\n",
       "    </tr>\n",
       "    <tr>\n",
       "      <th>3568864</th>\n",
       "      <td>2020</td>\n",
       "      <td>1</td>\n",
       "      <td>31</td>\n",
       "      <td>23:45</td>\n",
       "      <td>675</td>\n",
       "      <td>1</td>\n",
       "      <td>8</td>\n",
       "      <td>4</td>\n",
       "    </tr>\n",
       "    <tr>\n",
       "      <th>3568865</th>\n",
       "      <td>2020</td>\n",
       "      <td>1</td>\n",
       "      <td>31</td>\n",
       "      <td>23:45</td>\n",
       "      <td>676</td>\n",
       "      <td>0</td>\n",
       "      <td>2</td>\n",
       "      <td>37</td>\n",
       "    </tr>\n",
       "    <tr>\n",
       "      <th>3568866</th>\n",
       "      <td>2020</td>\n",
       "      <td>1</td>\n",
       "      <td>31</td>\n",
       "      <td>23:45</td>\n",
       "      <td>676</td>\n",
       "      <td>0</td>\n",
       "      <td>8</td>\n",
       "      <td>2</td>\n",
       "    </tr>\n",
       "    <tr>\n",
       "      <th>3568867</th>\n",
       "      <td>2020</td>\n",
       "      <td>1</td>\n",
       "      <td>31</td>\n",
       "      <td>23:45</td>\n",
       "      <td>676</td>\n",
       "      <td>1</td>\n",
       "      <td>2</td>\n",
       "      <td>46</td>\n",
       "    </tr>\n",
       "    <tr>\n",
       "      <th>3568868</th>\n",
       "      <td>2020</td>\n",
       "      <td>1</td>\n",
       "      <td>31</td>\n",
       "      <td>23:45</td>\n",
       "      <td>676</td>\n",
       "      <td>1</td>\n",
       "      <td>4</td>\n",
       "      <td>2</td>\n",
       "    </tr>\n",
       "  </tbody>\n",
       "</table>\n",
       "</div>"
      ],
      "text/plain": [
       "         Year  Month  Day HourMinute  MTSStationID  DirectionCode  \\\n",
       "3568859  2020      1   31      23:45           675              0   \n",
       "3568860  2020      1   31      23:45           675              0   \n",
       "3568861  2020      1   31      23:45           675              0   \n",
       "3568862  2020      1   31      23:45           675              1   \n",
       "3568863  2020      1   31      23:45           675              1   \n",
       "3568864  2020      1   31      23:45           675              1   \n",
       "3568865  2020      1   31      23:45           676              0   \n",
       "3568866  2020      1   31      23:45           676              0   \n",
       "3568867  2020      1   31      23:45           676              1   \n",
       "3568868  2020      1   31      23:45           676              1   \n",
       "\n",
       "         VehicleType  TransitCount  \n",
       "3568859            4             2  \n",
       "3568860            7             1  \n",
       "3568861            8             3  \n",
       "3568862            2             7  \n",
       "3568863            4             5  \n",
       "3568864            8             4  \n",
       "3568865            2            37  \n",
       "3568866            8             2  \n",
       "3568867            2            46  \n",
       "3568868            4             2  "
      ]
     },
     "execution_count": 37,
     "metadata": {},
     "output_type": "execute_result"
    }
   ],
   "source": [
    "df.tail(10)"
   ]
  },
  {
   "cell_type": "code",
   "execution_count": 41,
   "id": "299d6375",
   "metadata": {},
   "outputs": [
    {
     "data": {
      "text/plain": [
       "{'Year': {3568864: 2020,\n",
       "  3568865: 2020,\n",
       "  3568866: 2020,\n",
       "  3568867: 2020,\n",
       "  3568868: 2020},\n",
       " 'Month': {3568864: 1, 3568865: 1, 3568866: 1, 3568867: 1, 3568868: 1},\n",
       " 'Day': {3568864: 31, 3568865: 31, 3568866: 31, 3568867: 31, 3568868: 31},\n",
       " 'HourMinute': {3568864: '23:45',\n",
       "  3568865: '23:45',\n",
       "  3568866: '23:45',\n",
       "  3568867: '23:45',\n",
       "  3568868: '23:45'},\n",
       " 'MTSStationID': {3568864: 675,\n",
       "  3568865: 676,\n",
       "  3568866: 676,\n",
       "  3568867: 676,\n",
       "  3568868: 676},\n",
       " 'DirectionCode': {3568864: 1, 3568865: 0, 3568866: 0, 3568867: 1, 3568868: 1},\n",
       " 'VehicleType': {3568864: 8, 3568865: 2, 3568866: 8, 3568867: 2, 3568868: 4},\n",
       " 'TransitCount': {3568864: 4,\n",
       "  3568865: 37,\n",
       "  3568866: 2,\n",
       "  3568867: 46,\n",
       "  3568868: 2}}"
      ]
     },
     "execution_count": 41,
     "metadata": {},
     "output_type": "execute_result"
    }
   ],
   "source": [
    "df.tail().to_dict()"
   ]
  },
  {
   "cell_type": "code",
   "execution_count": 38,
   "id": "3076c597",
   "metadata": {},
   "outputs": [
    {
     "data": {
      "text/plain": [
       "array([  6,   7,   9,  12,  16,  25,  52,  53,  98, 100, 104, 107, 108,\n",
       "       112, 115, 116, 117, 122, 123, 124, 125, 126, 127, 128, 130, 131,\n",
       "       132, 133, 134, 137, 138, 139, 140, 143, 146, 147, 149, 150, 151,\n",
       "       152, 153, 154, 155, 157, 158, 170, 171, 173, 174, 176, 177, 182,\n",
       "       184, 186, 188, 219, 220, 221, 222, 223, 227, 228, 236, 238, 239,\n",
       "       243, 244, 245, 246, 247, 252, 256, 258, 259, 260, 262, 263, 274,\n",
       "       275, 276, 277, 278, 279, 281, 282, 285, 287, 288, 289, 290, 291,\n",
       "       292, 294, 298, 300, 303, 304, 305, 307, 308, 311, 312, 314, 318,\n",
       "       323, 328, 331, 332, 334, 336, 337, 339, 340, 342, 343, 344, 349,\n",
       "       350, 354, 355, 356, 357, 376, 377, 383, 389, 390, 391, 393, 396,\n",
       "       400, 401, 402, 403, 404, 405, 410, 411, 425, 426, 427, 428, 429,\n",
       "       431, 432, 436, 437, 438, 439, 441, 442, 445, 446, 447, 448, 449,\n",
       "       450, 451, 452, 453, 504, 505, 601, 602, 605, 607, 608, 610, 612,\n",
       "       613, 614, 615, 616, 617, 618, 620, 621, 623, 624, 627, 628, 629,\n",
       "       633, 634, 635, 636, 637, 638, 639, 651, 652, 654, 655, 661, 662,\n",
       "       663, 665, 670, 675, 676, 118, 295, 399, 434, 218, 280, 148, 385])"
      ]
     },
     "execution_count": 38,
     "metadata": {},
     "output_type": "execute_result"
    }
   ],
   "source": [
    "df.MTSStationID.unique()"
   ]
  },
  {
   "cell_type": "code",
   "execution_count": null,
   "id": "412379c2",
   "metadata": {},
   "outputs": [],
   "source": []
  }
 ],
 "metadata": {
  "kernelspec": {
   "display_name": "geo_env",
   "language": "python",
   "name": "python3"
  },
  "language_info": {
   "codemirror_mode": {
    "name": "ipython",
    "version": 3
   },
   "file_extension": ".py",
   "mimetype": "text/x-python",
   "name": "python",
   "nbconvert_exporter": "python",
   "pygments_lexer": "ipython3",
   "version": "3.11.11"
  }
 },
 "nbformat": 4,
 "nbformat_minor": 5
}
